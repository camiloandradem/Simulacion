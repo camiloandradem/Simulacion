{
 "cells": [
  {
   "cell_type": "markdown",
   "metadata": {},
   "source": [
    "### Fibonacci Primes"
   ]
  },
  {
   "cell_type": "code",
   "execution_count": 47,
   "metadata": {},
   "outputs": [],
   "source": [
    "import numpy as np\n",
    "\n",
    "##Esta funcion verifica si un numero dado es primo p mp\n",
    "\n",
    "def isPrime(n) : \n",
    "  \n",
    "    if (n <= 1) : \n",
    "        return False\n",
    "    if (n <= 3) : \n",
    "        return True\n",
    "      \n",
    "    if (n % 2 == 0 or n % 3 == 0) : \n",
    "        return False\n",
    "  \n",
    "    i = 5\n",
    "    while(i * i <= n) : \n",
    "        if (n % i == 0 or n % (i + 2) == 0) : \n",
    "            return False\n",
    "        i = i + 6\n",
    "  \n",
    "    return True\n"
   ]
  },
  {
   "cell_type": "code",
   "execution_count": 76,
   "metadata": {},
   "outputs": [
    {
     "name": "stdout",
     "output_type": "stream",
     "text": [
      "[1, 1, 2, 3, 5, 8, 13, 21, 34, 55, 89, 144, 233, 377, 610, 987, 1597, 2584, 4181, 6765, 10946, 17711, 28657, 46368, 75025, 121393, 196418, 317811, 514229, 832040, 1346269, 2178309]\n"
     ]
    }
   ],
   "source": [
    "import numpy as np\n",
    "\n",
    "##con este creamos un vector con los n primeros elementos de la serie fibonacci\n",
    "n=30\n",
    "i=1\n",
    "f =[i,i]\n",
    "\n",
    "for i in range (0 , n):\n",
    "    f.append(f[i] + f[i+1])\n",
    "    \n",
    "print (f)\n"
   ]
  },
  {
   "cell_type": "code",
   "execution_count": 86,
   "metadata": {},
   "outputs": [],
   "source": [
    "\n",
    "## Aca se crea el vector con los elementos de la serie fibonacci que sean primos llamando la funcion anterior, \n",
    "## tambien el vector de los indices de los elementos de la serie fibonacci que son primos\n",
    "\n",
    "pf=[]\n",
    "index=[]\n",
    "\n",
    "for j in range (0 , n):\n",
    "    \n",
    "    if (isPrime(f[j])) : \n",
    "        pf.append(f[j]) \n",
    "        index.append(j+1)\n",
    "\n",
    "    "
   ]
  },
  {
   "cell_type": "code",
   "execution_count": 84,
   "metadata": {},
   "outputs": [
    {
     "name": "stdout",
     "output_type": "stream",
     "text": [
      "[2, 3, 5, 13, 89, 233, 1597, 28657, 514229]\n",
      "[3, 4, 5, 7, 11, 13, 17, 23, 29]\n",
      "[['Term', 'Index', 'Fibonacci Prime']]\n"
     ]
    }
   ],
   "source": [
    "print(pf)\n",
    "print(index)\n",
    "print(Tabla)"
   ]
  },
  {
   "cell_type": "code",
   "execution_count": null,
   "metadata": {},
   "outputs": [],
   "source": []
  }
 ],
 "metadata": {
  "kernelspec": {
   "display_name": "Python 3",
   "language": "python",
   "name": "python3"
  },
  "language_info": {
   "codemirror_mode": {
    "name": "ipython",
    "version": 3
   },
   "file_extension": ".py",
   "mimetype": "text/x-python",
   "name": "python",
   "nbconvert_exporter": "python",
   "pygments_lexer": "ipython3",
   "version": "3.7.1"
  }
 },
 "nbformat": 4,
 "nbformat_minor": 2
}
